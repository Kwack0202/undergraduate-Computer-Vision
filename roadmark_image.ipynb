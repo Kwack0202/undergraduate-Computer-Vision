{
 "cells": [
  {
   "attachments": {},
   "cell_type": "markdown",
   "metadata": {},
   "source": [
    "# GPU 설정"
   ]
  },
  {
   "cell_type": "code",
   "execution_count": 1,
   "metadata": {},
   "outputs": [
    {
     "name": "stdout",
     "output_type": "stream",
     "text": [
      "2.10.0\n"
     ]
    }
   ],
   "source": [
    "import tensorflow as tf\n",
    "\n",
    "print(tf.__version__)"
   ]
  },
  {
   "cell_type": "code",
   "execution_count": 2,
   "metadata": {},
   "outputs": [
    {
     "name": "stdout",
     "output_type": "stream",
     "text": [
      "[name: \"/device:CPU:0\"\n",
      "device_type: \"CPU\"\n",
      "memory_limit: 268435456\n",
      "locality {\n",
      "}\n",
      "incarnation: 12357802847593552748\n",
      "xla_global_id: -1\n",
      ", name: \"/device:GPU:0\"\n",
      "device_type: \"GPU\"\n",
      "memory_limit: 5809889280\n",
      "locality {\n",
      "  bus_id: 1\n",
      "  links {\n",
      "  }\n",
      "}\n",
      "incarnation: 8955454276431975758\n",
      "physical_device_desc: \"device: 0, name: NVIDIA GeForce RTX 4080, pci bus id: 0000:07:00.0, compute capability: 8.9\"\n",
      "xla_global_id: 416903419\n",
      "]\n"
     ]
    }
   ],
   "source": [
    "from tensorflow.python.client import device_lib\n",
    "\n",
    "print(device_lib.list_local_devices())"
   ]
  },
  {
   "attachments": {},
   "cell_type": "markdown",
   "metadata": {},
   "source": [
    "# Import"
   ]
  },
  {
   "cell_type": "code",
   "execution_count": 5,
   "metadata": {},
   "outputs": [],
   "source": [
    "import os\n",
    "import zipfile\n",
    "import cv2\n",
    "import matplotlib.pyplot as plt\n",
    "import numpy as np\n",
    "import json\n",
    "from tqdm import tqdm\n",
    "\n",
    "from PIL import Image, ImageDraw"
   ]
  },
  {
   "cell_type": "code",
   "execution_count": 6,
   "metadata": {},
   "outputs": [],
   "source": [
    "# 각 supercategory별로 색상 지정\n",
    "colors = {'roadlane': 'white', \n",
    "          'roadlane_ban': 'yellow', \n",
    "          'guidance': 'green', \n",
    "          'direction_ban': 'blue', \n",
    "          'speed_restriction': 'red',\n",
    "          'protection_zone' : 'orange',\n",
    "          'direction_guidance' : 'DeepSkyBlue',\n",
    "          'stop_lane': 'brown',\n",
    "          'crosswalk': 'cyan',\n",
    "          'direction': 'pink',\n",
    "          'etc': 'purple'}"
   ]
  },
  {
   "attachments": {},
   "cell_type": "markdown",
   "metadata": {},
   "source": [
    "# Image generate form Json"
   ]
  },
  {
   "cell_type": "code",
   "execution_count": 8,
   "metadata": {},
   "outputs": [],
   "source": [
    "# 라벨링 데이터 가져오기(Json 파일)\n",
    "zip_path_list = ['./01.데이터/2.Validation/라벨링데이터/VL1.온전.zip',\n",
    "                 './01.데이터/2.Validation/라벨링데이터/VL2.비온전(물리).zip',\n",
    "                 # './01.데이터/2.Validation/라벨링데이터/VL3.비온전(환경).zip',\n",
    "                 #'./01.데이터/2.Validation/라벨링데이터/VL4.비온전(복합).zip'\n",
    "                ]\n",
    "\n",
    "# 마스킹 이미지 저장용 경로 생성\n",
    "mask_all = './MASK_select/'"
   ]
  },
  {
   "cell_type": "code",
   "execution_count": 9,
   "metadata": {},
   "outputs": [],
   "source": [
    "if not os.path.exists(mask_all):\n",
    "    os.makedirs(mask_all)"
   ]
  },
  {
   "attachments": {},
   "cell_type": "markdown",
   "metadata": {},
   "source": [
    "### polyline + segmentation"
   ]
  },
  {
   "cell_type": "code",
   "execution_count": 10,
   "metadata": {},
   "outputs": [
    {
     "name": "stderr",
     "output_type": "stream",
     "text": [
      "100%|██████████| 13292/13292 [09:50<00:00, 22.51it/s]\n",
      "100%|██████████| 6612/6612 [04:57<00:00, 22.26it/s]\n",
      "100%|██████████| 2/2 [14:47<00:00, 443.78s/it]\n"
     ]
    }
   ],
   "source": [
    "for zip_path in tqdm(zip_path_list):\n",
    "    # zip 파일 열기\n",
    "    with zipfile.ZipFile(zip_path, 'r') as zip_file:\n",
    "        # zip 파일 내부에 있는 파일 목록 가져오기\n",
    "        file_list = zip_file.namelist()\n",
    "        # 파일 목록 중 json 파일만 필터링\n",
    "        json_file_list = [f for f in file_list if f.endswith('.json')]\n",
    "        # json 파일 읽어오기\n",
    "        for json_file_name in tqdm(json_file_list):\n",
    "            filename = json_file_name[8:-5] # 파일 이름 지정\n",
    "            with zip_file.open(json_file_name, 'r') as f:\n",
    "                data = json.load(f)\n",
    "            \n",
    "            \n",
    "            polylines = []\n",
    "            segmeatations = []\n",
    "            supercategories_poly = []\n",
    "            supercategories_seg = []\n",
    "            \n",
    "            # annotation 정보에서 polyline 추출\n",
    "            for ann in data['annotations']:\n",
    "                try:\n",
    "                    polyline = ann['polyline']\n",
    "                    polylines.append(polyline)\n",
    "                    category_id = ann['category_id']\n",
    "                    supercategory = None\n",
    "                    \n",
    "                    for cat in data['categories']:\n",
    "                        if cat['id'] == category_id:\n",
    "                            supercategory = cat['supercategory']\n",
    "                            break\n",
    "                    supercategories_poly.append(supercategory)\n",
    "                except KeyError:\n",
    "                    pass\n",
    "\n",
    "            # annotation 정보에서 segmentation 추출\n",
    "            for ann in data['annotations']:\n",
    "                try:\n",
    "                    segmeatation = ann['segmentation']\n",
    "                    segmeatations.append(segmeatation)\n",
    "                    category_id = ann['category_id']\n",
    "                    supercategory = None\n",
    "                    for cat in data['categories']:\n",
    "                        if cat['id'] == category_id:\n",
    "                            supercategory = cat['supercategory']\n",
    "                            break\n",
    "                    supercategories_seg.append(supercategory)\n",
    "                except KeyError:\n",
    "                    pass\n",
    "            \n",
    "            #============================================================================\n",
    "            # 검은색 배경 이미지 생성\n",
    "            width = data['images'][0]['width']\n",
    "            height = data['images'][0]['height']\n",
    "            img = Image.new('RGB', (width, height), color='black')\n",
    "            draw = ImageDraw.Draw(img)\n",
    "            \n",
    "            # polyline ================================================================\n",
    "            for lines, supercat in zip(polylines, supercategories_poly):\n",
    "                color = colors[supercat]\n",
    "                for line in lines:\n",
    "                    # line 리스트의 좌표를 튜플로 변환\n",
    "                    points = [(line[i], line[i+1]) for i in range(0, len(line), 2)]\n",
    "                    draw.line(points, fill=color, width=4)\n",
    "                    \n",
    "            # segmentation ============================================================\n",
    "            # direction supercategory를 제외한 다른 supercategory 그리기\n",
    "            for lines, supercat in zip(segmeatations, supercategories_seg):\n",
    "                if supercat == 'direction':\n",
    "                    continue  # direction은 나중에 그리기 위해 건너뜀\n",
    "                color = colors[supercat]\n",
    "                for line in lines:\n",
    "                    # line 리스트의 좌표를 튜플로 변환\n",
    "                    points = [(line[i], line[i+1]) for i in range(0, len(line), 2)]\n",
    "                    draw.polygon(points, fill=color, outline=color)\n",
    "\n",
    "            # direction supercategory 그리기\n",
    "            for lines, supercat in zip(segmeatations, supercategories_seg):\n",
    "                if supercat != 'direction':\n",
    "                    continue  # direction만 그리기 위해 건너뜀\n",
    "                color = colors[supercat]\n",
    "                for line in lines:\n",
    "                    # line 리스트의 좌표를 튜플로 변환\n",
    "                    points = [(line[i], line[i+1]) for i in range(0, len(line), 2)]\n",
    "                    draw.polygon(points, fill=color, outline=color)\n",
    "    \n",
    "            # 이미지 저장 ================================================================\n",
    "            img.save(mask_all + filename + '_mask.png')"
   ]
  },
  {
   "attachments": {},
   "cell_type": "markdown",
   "metadata": {},
   "source": [
    "### extract_images_from_zip"
   ]
  },
  {
   "cell_type": "code",
   "execution_count": 11,
   "metadata": {},
   "outputs": [],
   "source": [
    "import zipfile\n",
    "\n",
    "def extract_images_from_zip(zip_path, folder_name):\n",
    "    with zipfile.ZipFile(zip_path, 'r') as zip_file:\n",
    "        file_list = zip_file.namelist()\n",
    "        for file_name in tqdm(file_list):\n",
    "            if folder_name in file_name:\n",
    "                zip_file.extract(file_name, path='./')\n",
    "                # print(f\"Extracted {file_name}\")"
   ]
  },
  {
   "cell_type": "code",
   "execution_count": 12,
   "metadata": {},
   "outputs": [
    {
     "name": "stderr",
     "output_type": "stream",
     "text": [
      "100%|██████████| 39880/39880 [03:40<00:00, 180.86it/s]   \n",
      "100%|██████████| 23112/23112 [01:47<00:00, 215.33it/s] \n"
     ]
    }
   ],
   "source": [
    "# 라벨링 데이터 가져오기(Json 파일)\n",
    "zip_path_list = ['./01.데이터/2.Validation/원천데이터/VS1.온전.zip',\n",
    "                 './01.데이터/2.Validation/원천데이터/VS2.비온전(물리).zip',\n",
    "                 #'./01.데이터/2.Validation/원천데이터/VS3.비온전(환경).zip',\n",
    "                 #'./01.데이터/2.Validation/원천데이터/VS4.비온전(복합).zip'\n",
    "                 ]\n",
    "\n",
    "for zip_path in zip_path_list:\n",
    "    extract_images_from_zip(zip_path, 'IMAGE')"
   ]
  },
  {
   "cell_type": "code",
   "execution_count": null,
   "metadata": {},
   "outputs": [],
   "source": []
  }
 ],
 "metadata": {
  "kernelspec": {
   "display_name": "computer_vision",
   "language": "python",
   "name": "python3"
  },
  "language_info": {
   "codemirror_mode": {
    "name": "ipython",
    "version": 3
   },
   "file_extension": ".py",
   "mimetype": "text/x-python",
   "name": "python",
   "nbconvert_exporter": "python",
   "pygments_lexer": "ipython3",
   "version": "3.7.16"
  },
  "orig_nbformat": 4
 },
 "nbformat": 4,
 "nbformat_minor": 2
}
